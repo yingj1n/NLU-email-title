{
 "cells": [
  {
   "cell_type": "code",
   "execution_count": 1,
   "metadata": {},
   "outputs": [
    {
     "name": "stdout",
     "output_type": "stream",
     "text": [
      "cuda:0\n"
     ]
    }
   ],
   "source": [
    "# %load_ext autoreload\n",
    "# %autoreload 2\n",
    "\n",
    "import sys\n",
    "from torchtext import data, vocab\n",
    "from tqdm import tqdm\n",
    "\n",
    "sys.path.append('../')\n",
    "from train_attention import *\n",
    "from model_attention import *\n",
    "\n",
    "DEVICE=torch.device('cuda:0' if torch.cuda.is_available() else 'cpu') # or set to 'cpu'\n",
    "print(DEVICE)\n",
    "\n",
    "seed = 42\n",
    "np.random.seed(seed)\n",
    "torch.manual_seed(seed)\n",
    "torch.cuda.manual_seed(seed)"
   ]
  },
  {
   "cell_type": "markdown",
   "metadata": {},
   "source": [
    "# Loading Enron Data"
   ]
  },
  {
   "cell_type": "code",
   "execution_count": 2,
   "metadata": {},
   "outputs": [],
   "source": [
    "DATA_PATH = '../data/interim/111044_1000/'\n",
    "LARGE_DATA_PATH = '../data/interim/111044/'\n",
    "\n",
    "SAMPLE_DATA_PATH = f'{LARGE_DATA_PATH}'\n",
    "# PROCESSED_DATA_PATH = f'{SAMPLE_DATA_PATH}/processed_data/'\n",
    "\n",
    "SAVE_MODEL_PATH = '../output/'"
   ]
  },
  {
   "cell_type": "code",
   "execution_count": 3,
   "metadata": {},
   "outputs": [],
   "source": [
    "# # GloVe Embedding\n",
    "# from torchtext import datasets\n",
    "# from collections import defaultdict\n",
    "\n",
    "# def initialize_glove_vector(max_vectors):\n",
    "#     raw_vocab = vocab.GloVe(max_vectors=max_vectors)\n",
    "#     raw_vocab.itos = ['<unk>', '<pad>', '<s>', '</s>'] + raw_vocab.itos\n",
    "#     raw_vocab.stoi = defaultdict(vocab._default_unk_index)\n",
    "#     raw_vocab.stoi.update({tok: i for i, tok in enumerate(raw_vocab.itos)})\n",
    "#     emb_size = raw_vocab.vectors.size()[1]\n",
    "#     zero = torch.zeros(2, emb_size)\n",
    "#     vectors = torch.cat([zero, raw_vocab.vectors])\n",
    "#     raw_vocab.vectors = vectors\n",
    "#     return raw_vocab\n",
    "\n",
    "# glove_vocab_modify = initialize_glove_vector(max_vectors=20000)"
   ]
  },
  {
   "cell_type": "code",
   "execution_count": 4,
   "metadata": {},
   "outputs": [],
   "source": [
    "import sys\n",
    "import csv\n",
    "maxInt = sys.maxsize\n",
    "\n",
    "while True:\n",
    "    # decrease the maxInt value by factor 10 \n",
    "    # as long as the OverflowError occurs.\n",
    "\n",
    "    try:\n",
    "        csv.field_size_limit(maxInt)\n",
    "        break\n",
    "    except OverflowError:\n",
    "        maxInt = int(maxInt/10)"
   ]
  },
  {
   "cell_type": "code",
   "execution_count": 5,
   "metadata": {},
   "outputs": [],
   "source": [
    "if True:\n",
    "    import spacy\n",
    "    tokenizer = data.get_tokenizer('spacy')\n",
    "\n",
    "    UNK_TOKEN = \"<unk>\"\n",
    "    PAD_TOKEN = \"<pad>\"    \n",
    "    SOS_TOKEN = \"<s>\"\n",
    "    EOS_TOKEN = \"</s>\"\n",
    "    LOWER = True\n",
    "    \n",
    "    # we include lengths to provide to the RNNs\n",
    "    SRC = data.Field(tokenize=tokenizer, \n",
    "                          lower=True, include_lengths=True, batch_first=True, \n",
    "                          unk_token=UNK_TOKEN, pad_token=PAD_TOKEN, init_token=None, eos_token=EOS_TOKEN)\n",
    "    TRG = SRC\n",
    "#     TRG = data.Field(tokenize=tokenizer, \n",
    "#                           lower=True, include_lengths=True, batch_first=True,\n",
    "#                           unk_token=UNK_TOKEN, pad_token=PAD_TOKEN, init_token=None, eos_token=EOS_TOKEN)\n",
    "\n",
    "\n",
    "    MAX_LEN = 500  # NOTE: we filter out a lot of sentences for speed\n",
    "    trn_data_fields = [(\"src\", SRC), (\"trg\", TRG)]\n",
    "    train_data, valid_data, test_data = data.TabularDataset.splits(path=f'{SAMPLE_DATA_PATH}',\n",
    "                                     train='train.csv', validation='val.csv', test='test.csv',\n",
    "                                     format='csv', skip_header=True, fields=trn_data_fields, \n",
    "                                     filter_pred=lambda x: len(vars(x)['src']) <= MAX_LEN and len(vars(x)['trg']) <= MAX_LEN)\n",
    "\n",
    "\n",
    "\n",
    "    MIN_FREQ = 5  # NOTE: we limit the vocabulary to frequent words for speed\n",
    "    SRC.build_vocab(train_data.src, min_freq=MIN_FREQ)\n",
    "    TRG.build_vocab(train_data.src, min_freq=MIN_FREQ)\n",
    "\n",
    "# For testing glove embedding\n",
    "#     train_data.fields['src'].vocab = glove_vocab_modify\n",
    "#     train_data.fields['trg'].vocab = glove_vocab_modify\n",
    "    \n",
    "    PAD_INDEX = TRG.vocab.stoi[PAD_TOKEN]"
   ]
  },
  {
   "cell_type": "code",
   "execution_count": 6,
   "metadata": {},
   "outputs": [
    {
     "data": {
      "text/plain": [
       "0"
      ]
     },
     "execution_count": 6,
     "metadata": {},
     "output_type": "execute_result"
    }
   ],
   "source": [
    "TRG.vocab.stoi[SOS_TOKEN]"
   ]
  },
  {
   "cell_type": "code",
   "execution_count": 7,
   "metadata": {},
   "outputs": [
    {
     "data": {
      "text/plain": [
       "['hello', 'vince', ',', ' ', 'my', 'name', 'is', 'bernard', 'murphy', '-']"
      ]
     },
     "execution_count": 7,
     "metadata": {},
     "output_type": "execute_result"
    }
   ],
   "source": [
    "train_data[0].src[:10]"
   ]
  },
  {
   "cell_type": "code",
   "execution_count": 8,
   "metadata": {},
   "outputs": [
    {
     "name": "stdout",
     "output_type": "stream",
     "text": [
      "Data set sizes (number of sentence pairs):\n",
      "train 67045\n",
      "valid 19070\n",
      "test 9568 \n",
      "\n",
      "First training example:\n",
      "src: hello vince ,   my name is bernard murphy - i received your e - mail address from les clewlow , who was my phd supervisor at the financia options research centre at warwick business school .   i 've just finished my phd on electricity price jump diffusions :   a theoretical and empirical study in incomplete markets - hence my interest in electricity price modelling and derivative pricing .   i was looking to get hold of a copy of your 1997 paper , which has recently come to my attention :   \" the challenge of pricing & risk - managing electricity derivatives \" , the us power market , risk publications , pp . 149 - 171 .   and les suggested that i contact you directly ( les is travelling at present and does n't have an electronic copy available ) to request an e - copy .   incidentally , i am lecturer in finance / financial mathematics at university of limerick ( ireland ) and have taken a year out to work for caminus uk , where i am working on introducing and developing a markets - based approach ( spark - spread ) to real asset valuations in the uk power industry .   thanks in advancve   bernard murphy\n",
      "trg: 1997 risk paper on pricing of electricity derivatives \n",
      "\n",
      "Most common words (src):\n",
      "               329198\n",
      "         .     280254\n",
      "       the     252899\n",
      "         ,     233613\n",
      "        to     181741\n",
      "         -     126314\n",
      "       and     118805\n",
      "         _     108224\n",
      "         :     104964\n",
      "        of     102221 \n",
      "\n",
      "Most common words (trg):\n",
      "               329198\n",
      "         .     280254\n",
      "       the     252899\n",
      "         ,     233613\n",
      "        to     181741\n",
      "         -     126314\n",
      "       and     118805\n",
      "         _     108224\n",
      "         :     104964\n",
      "        of     102221 \n",
      "\n",
      "First 10 words (src):\n",
      "00 <unk>\n",
      "01 <pad>\n",
      "02 </s>\n",
      "03  \n",
      "04 .\n",
      "05 the\n",
      "06 ,\n",
      "07 to\n",
      "08 -\n",
      "09 and \n",
      "\n",
      "First 10 words (trg):\n",
      "00 <unk>\n",
      "01 <pad>\n",
      "02 </s>\n",
      "03  \n",
      "04 .\n",
      "05 the\n",
      "06 ,\n",
      "07 to\n",
      "08 -\n",
      "09 and \n",
      "\n",
      "Number of Body words (types): 32513\n",
      "Number of Title words (types): 32513 \n",
      "\n"
     ]
    }
   ],
   "source": [
    "print_data_info(train_data, valid_data, test_data, SRC, TRG)"
   ]
  },
  {
   "cell_type": "code",
   "execution_count": 9,
   "metadata": {},
   "outputs": [],
   "source": [
    "train_iter = data.BucketIterator(train_data, batch_size=60, train=True, \n",
    "                                 sort_within_batch=True, \n",
    "                                 sort_key=lambda x: (len(x.src), len(x.trg)), repeat=False,\n",
    "                                 device=DEVICE)\n",
    "valid_iter = data.Iterator(valid_data, batch_size=1, train=False, sort=False, repeat=False, \n",
    "                           device=DEVICE)"
   ]
  },
  {
   "cell_type": "code",
   "execution_count": 10,
   "metadata": {},
   "outputs": [
    {
     "data": {
      "text/plain": [
       "32513"
      ]
     },
     "execution_count": 10,
     "metadata": {},
     "output_type": "execute_result"
    }
   ],
   "source": [
    "len(SRC.vocab.itos)"
   ]
  },
  {
   "cell_type": "markdown",
   "metadata": {},
   "source": [
    "# Model Training"
   ]
  },
  {
   "cell_type": "code",
   "execution_count": 11,
   "metadata": {},
   "outputs": [
    {
     "name": "stderr",
     "output_type": "stream",
     "text": [
      "/home/yj1461/py3.6.3/lib/python3.6/site-packages/torch/nn/modules/rnn.py:46: UserWarning: dropout option adds dropout after all but last recurrent layer, so non-zero dropout expects num_layers greater than 1, but got dropout=0.2 and num_layers=1\n",
      "  \"num_layers={}\".format(dropout, num_layers))\n"
     ]
    },
    {
     "name": "stdout",
     "output_type": "stream",
     "text": [
      "Epoch 0\n",
      "Epoch Step: 100 Loss: 26.402468 Tokens per Sec: 3792.766632\n",
      "Epoch Step: 200 Loss: 21.831011 Tokens per Sec: 3886.604453\n",
      "Epoch Step: 300 Loss: 37.130886 Tokens per Sec: 3767.524120\n",
      "Epoch Step: 400 Loss: 30.045364 Tokens per Sec: 3734.387767\n",
      "Epoch Step: 500 Loss: 33.609913 Tokens per Sec: 3836.774301\n",
      "Epoch Step: 600 Loss: 35.982204 Tokens per Sec: 3839.262433\n",
      "Epoch Step: 700 Loss: 28.164364 Tokens per Sec: 3683.216624\n",
      "Epoch Step: 800 Loss: 31.841702 Tokens per Sec: 3777.761926\n",
      "Epoch Step: 900 Loss: 22.132233 Tokens per Sec: 3690.118849\n",
      "Epoch Step: 1000 Loss: 29.664907 Tokens per Sec: 3777.156711\n",
      "Epoch Step: 1100 Loss: 22.461683 Tokens per Sec: 3807.088405\n",
      "\n",
      "Example #1\n",
      "Src :  good afternoon mr. ball :   the enron corp. research group would like to conduct an informal interview with you at your convenience .   please give me some dates and times within the next 2 weeks that you might be available and i will arrange the schedule .   the people that will be interviewing you are :   vince kaminski    managing director stinson gibner    vice president grant masson    vice president vasant shanbhogue   vice president krishna krishnarao   director zimin lu    director tanya tamarchenko   manager alex huang    manager   each individual interview will last approximately 15 - 20 minutes , so we probably should allow at least   3 hours .   if you would prefer to call me with some dates and times - i can check the calendars while we are talking .   look forward to hearing from you .   thank you .   shirley crenshaw administrative coordinator research group 713/853 - 5290\n",
      "Trg :  interview with enron corp. research group\n",
      "Pred:  \n",
      "\n",
      "Example #2\n",
      "Src :  1 . if you know that you are taking vacation for the holidays , please submit a timesheet <unk> send your timesheet if you have taken time off / rotation information has changed . sorry , we are no longer tracking overtime since you are salary based . to all a / a pool members : it is important that you let us know of any time you have taken off . to those members who are sending time on to your assistant , please make sure they forward that information on to the a / a program . with the roll out of sap , you have the ability to go on - line @ http://ehronline.enron.com/ and input your time . i will continue to email for timesheets regardless if you go on - line . this is to let you know it is time to input your time or fills out your timesheet . 2 . if you have moved recently , please provide the following and indicate the new changes when sending your timesheet . new rotation : business unit and group : effective date : location : extension : supervisor : supervisor 's location : supervisor 's extension : supervisor 's assistant : assistant 's location : assistant 's extension : co # rc # 3 . quick reminder that you can pick up your check or past period check @ eb 1198 ( if they are not already coming to your location / mail stop ) . thank you for your cooperation rt\n",
      "Trg :  a / a - timesheets\n",
      "Pred:  \n",
      "\n",
      "Example #3\n",
      "Src :  peter and dan--   txu is in the process of amending the current guaranty to have the cap amount increased due to an increase in trading .   please review the attached document and send any commentary back to my attention .   the beneficiaries involved are both enron north america corp. and enron canada corp.   i would appreciate a prompt response in order to have the guaranty executed as soon as possible by the counterparty due to the current exposure that we currently have out to them .     thank you ,   veronica espinoza\n",
      "Trg :  txu energy trading -- guaranty\n",
      "Pred:  \n",
      "\n",
      "Example #4\n",
      "Src :  all ,   attached please find the current tagg / erms project list for the user meeting tomorrow at 10 a.m. in <unk> .     thanks & regards ,   karima husain project manager , gas tactical ( 713 ) 345 - 7252\n",
      "Trg :  tagg / erms project list\n",
      "Pred:  meeting\n",
      "\n",
      "Example #5\n",
      "Src :  calendar entry : \t appointment   description : eb3127 - will smith , duong luu   date : \t\t 4/24/2001 time : \t\t 9:00 am - 10:00 am ( central standard time )   chairperson : \t stacey w white   detailed description :\n",
      "Trg :  eb3127 - will smith , duong luu\n",
      "Pred:  - <unk>\n",
      "\n",
      "Validation perplexity: 82.235526\n",
      "Epoch 1\n",
      "Epoch Step: 100 Loss: 18.650105 Tokens per Sec: 3856.657277\n",
      "Epoch Step: 200 Loss: 42.141342 Tokens per Sec: 3831.237002\n",
      "Epoch Step: 300 Loss: 14.830819 Tokens per Sec: 3716.973514\n",
      "Epoch Step: 400 Loss: 15.012779 Tokens per Sec: 3866.223182\n",
      "Epoch Step: 500 Loss: 22.477491 Tokens per Sec: 3862.230977\n",
      "Epoch Step: 600 Loss: 18.131630 Tokens per Sec: 3760.829764\n",
      "Epoch Step: 700 Loss: 14.899254 Tokens per Sec: 3828.100690\n",
      "Epoch Step: 800 Loss: 26.887625 Tokens per Sec: 3740.688605\n",
      "Epoch Step: 900 Loss: 24.645918 Tokens per Sec: 3737.136449\n",
      "Epoch Step: 1000 Loss: 17.250191 Tokens per Sec: 3814.636309\n",
      "Epoch Step: 1100 Loss: 16.239437 Tokens per Sec: 3772.815277\n",
      "\n",
      "Example #1\n",
      "Src :  good afternoon mr. ball :   the enron corp. research group would like to conduct an informal interview with you at your convenience .   please give me some dates and times within the next 2 weeks that you might be available and i will arrange the schedule .   the people that will be interviewing you are :   vince kaminski    managing director stinson gibner    vice president grant masson    vice president vasant shanbhogue   vice president krishna krishnarao   director zimin lu    director tanya tamarchenko   manager alex huang    manager   each individual interview will last approximately 15 - 20 minutes , so we probably should allow at least   3 hours .   if you would prefer to call me with some dates and times - i can check the calendars while we are talking .   look forward to hearing from you .   thank you .   shirley crenshaw administrative coordinator research group 713/853 - 5290\n",
      "Trg :  interview with enron corp. research group\n",
      "Pred:  \n",
      "\n",
      "Example #2\n",
      "Src :  1 . if you know that you are taking vacation for the holidays , please submit a timesheet <unk> send your timesheet if you have taken time off / rotation information has changed . sorry , we are no longer tracking overtime since you are salary based . to all a / a pool members : it is important that you let us know of any time you have taken off . to those members who are sending time on to your assistant , please make sure they forward that information on to the a / a program . with the roll out of sap , you have the ability to go on - line @ http://ehronline.enron.com/ and input your time . i will continue to email for timesheets regardless if you go on - line . this is to let you know it is time to input your time or fills out your timesheet . 2 . if you have moved recently , please provide the following and indicate the new changes when sending your timesheet . new rotation : business unit and group : effective date : location : extension : supervisor : supervisor 's location : supervisor 's extension : supervisor 's assistant : assistant 's location : assistant 's extension : co # rc # 3 . quick reminder that you can pick up your check or past period check @ eb 1198 ( if they are not already coming to your location / mail stop ) . thank you for your cooperation rt\n",
      "Trg :  a / a - timesheets\n",
      "Pred:  's new email\n",
      "\n",
      "Example #3\n",
      "Src :  peter and dan--   txu is in the process of amending the current guaranty to have the cap amount increased due to an increase in trading .   please review the attached document and send any commentary back to my attention .   the beneficiaries involved are both enron north america corp. and enron canada corp.   i would appreciate a prompt response in order to have the guaranty executed as soon as possible by the counterparty due to the current exposure that we currently have out to them .     thank you ,   veronica espinoza\n",
      "Trg :  txu energy trading -- guaranty\n",
      "Pred:  \n",
      "\n",
      "Example #4\n",
      "Src :  all ,   attached please find the current tagg / erms project list for the user meeting tomorrow at 10 a.m. in <unk> .     thanks & regards ,   karima husain project manager , gas tactical ( 713 ) 345 - 7252\n",
      "Trg :  tagg / erms project list\n",
      "Pred:  / <unk> / <unk> / <unk> / <unk> / <unk> / <unk> / <unk> / <unk> / <unk> / <unk> / <unk> / <unk> / <unk> / <unk> / <unk> / <unk> / <unk> / <unk> / <unk> / <unk> / <unk> / <unk> / <unk> / <unk> / <unk> / <unk> / <unk> / <unk> / <unk> / <unk> / <unk> / <unk> / <unk> / <unk> / <unk> / <unk> / <unk> / <unk> / <unk> / <unk> / <unk> / <unk> / <unk> / <unk> / <unk> / <unk> / <unk> / <unk> / <unk> / <unk>\n",
      "\n",
      "Example #5\n",
      "Src :  calendar entry : \t appointment   description : eb3127 - will smith , duong luu   date : \t\t 4/24/2001 time : \t\t 9:00 am - 10:00 am ( central standard time )   chairperson : \t stacey w white   detailed description :\n",
      "Trg :  eb3127 - will smith , duong luu\n",
      "Pred:  - oncall\n",
      "\n"
     ]
    },
    {
     "name": "stdout",
     "output_type": "stream",
     "text": [
      "Validation perplexity: 51.656317\n",
      "Epoch 2\n",
      "Epoch Step: 100 Loss: 17.412642 Tokens per Sec: 3761.621474\n",
      "Epoch Step: 200 Loss: 12.202969 Tokens per Sec: 3855.087580\n",
      "Epoch Step: 300 Loss: 19.851547 Tokens per Sec: 3779.563902\n",
      "Epoch Step: 400 Loss: 20.400808 Tokens per Sec: 3774.728938\n",
      "Epoch Step: 500 Loss: 21.779236 Tokens per Sec: 3973.481493\n",
      "Epoch Step: 600 Loss: 15.801266 Tokens per Sec: 3789.830011\n",
      "Epoch Step: 700 Loss: 27.296480 Tokens per Sec: 3823.213089\n",
      "Epoch Step: 800 Loss: 21.911037 Tokens per Sec: 3694.721535\n",
      "Epoch Step: 900 Loss: 23.176317 Tokens per Sec: 3706.202963\n",
      "Epoch Step: 1000 Loss: 14.648292 Tokens per Sec: 3840.019747\n",
      "Epoch Step: 1100 Loss: 16.914032 Tokens per Sec: 3713.341663\n",
      "\n",
      "Example #1\n",
      "Src :  good afternoon mr. ball :   the enron corp. research group would like to conduct an informal interview with you at your convenience .   please give me some dates and times within the next 2 weeks that you might be available and i will arrange the schedule .   the people that will be interviewing you are :   vince kaminski    managing director stinson gibner    vice president grant masson    vice president vasant shanbhogue   vice president krishna krishnarao   director zimin lu    director tanya tamarchenko   manager alex huang    manager   each individual interview will last approximately 15 - 20 minutes , so we probably should allow at least   3 hours .   if you would prefer to call me with some dates and times - i can check the calendars while we are talking .   look forward to hearing from you .   thank you .   shirley crenshaw administrative coordinator research group 713/853 - 5290\n",
      "Trg :  interview with enron corp. research group\n",
      "Pred:  \n",
      "\n",
      "Example #2\n",
      "Src :  1 . if you know that you are taking vacation for the holidays , please submit a timesheet <unk> send your timesheet if you have taken time off / rotation information has changed . sorry , we are no longer tracking overtime since you are salary based . to all a / a pool members : it is important that you let us know of any time you have taken off . to those members who are sending time on to your assistant , please make sure they forward that information on to the a / a program . with the roll out of sap , you have the ability to go on - line @ http://ehronline.enron.com/ and input your time . i will continue to email for timesheets regardless if you go on - line . this is to let you know it is time to input your time or fills out your timesheet . 2 . if you have moved recently , please provide the following and indicate the new changes when sending your timesheet . new rotation : business unit and group : effective date : location : extension : supervisor : supervisor 's location : supervisor 's extension : supervisor 's assistant : assistant 's location : assistant 's extension : co # rc # 3 . quick reminder that you can pick up your check or past period check @ eb 1198 ( if they are not already coming to your location / mail stop ) . thank you for your cooperation rt\n",
      "Trg :  a / a - timesheets\n",
      "Pred:  's expense report\n",
      "\n",
      "Example #3\n",
      "Src :  peter and dan--   txu is in the process of amending the current guaranty to have the cap amount increased due to an increase in trading .   please review the attached document and send any commentary back to my attention .   the beneficiaries involved are both enron north america corp. and enron canada corp.   i would appreciate a prompt response in order to have the guaranty executed as soon as possible by the counterparty due to the current exposure that we currently have out to them .     thank you ,   veronica espinoza\n",
      "Trg :  txu energy trading -- guaranty\n",
      "Pred:  \n",
      "\n",
      "Example #4\n",
      "Src :  all ,   attached please find the current tagg / erms project list for the user meeting tomorrow at 10 a.m. in <unk> .     thanks & regards ,   karima husain project manager , gas tactical ( 713 ) 345 - 7252\n",
      "Trg :  tagg / erms project list\n",
      "Pred:  meeting - <unk>\n",
      "\n",
      "Example #5\n",
      "Src :  calendar entry : \t appointment   description : eb3127 - will smith , duong luu   date : \t\t 4/24/2001 time : \t\t 9:00 am - 10:00 am ( central standard time )   chairperson : \t stacey w white   detailed description :\n",
      "Trg :  eb3127 - will smith , duong luu\n",
      "Pred:  - <unk> - <unk> , <unk> , <unk> , <unk> , <unk> , <unk> , <unk> , <unk> , <unk> , <unk> , <unk> , <unk> , <unk> , <unk> , <unk> , <unk> , <unk> , <unk> , <unk> , <unk> , <unk> , <unk> , <unk> , <unk> , <unk> , <unk> , <unk> , <unk> , <unk> , <unk> , <unk> , <unk> , <unk> , <unk> , <unk> , <unk> , <unk> , <unk> , <unk> , <unk> , <unk> , <unk> , <unk> , <unk> , <unk> , <unk> , <unk> , <unk> , <unk>\n",
      "\n",
      "Validation perplexity: 40.758377\n",
      "Epoch 3\n",
      "Epoch Step: 100 Loss: 16.931490 Tokens per Sec: 3687.933492\n",
      "Epoch Step: 200 Loss: 16.218822 Tokens per Sec: 3794.588012\n",
      "Epoch Step: 300 Loss: 14.014843 Tokens per Sec: 3792.563498\n",
      "Epoch Step: 400 Loss: 29.669708 Tokens per Sec: 3693.562690\n",
      "Epoch Step: 500 Loss: 9.579894 Tokens per Sec: 3843.135499\n",
      "Epoch Step: 600 Loss: 10.335853 Tokens per Sec: 3928.825895\n",
      "Epoch Step: 700 Loss: 13.927646 Tokens per Sec: 3867.571326\n",
      "Epoch Step: 800 Loss: 15.042851 Tokens per Sec: 3864.494839\n",
      "Epoch Step: 900 Loss: 13.231709 Tokens per Sec: 3728.797374\n",
      "Epoch Step: 1000 Loss: 17.647858 Tokens per Sec: 3821.884969\n",
      "Epoch Step: 1100 Loss: 17.487394 Tokens per Sec: 3744.495923\n",
      "\n",
      "Example #1\n",
      "Src :  good afternoon mr. ball :   the enron corp. research group would like to conduct an informal interview with you at your convenience .   please give me some dates and times within the next 2 weeks that you might be available and i will arrange the schedule .   the people that will be interviewing you are :   vince kaminski    managing director stinson gibner    vice president grant masson    vice president vasant shanbhogue   vice president krishna krishnarao   director zimin lu    director tanya tamarchenko   manager alex huang    manager   each individual interview will last approximately 15 - 20 minutes , so we probably should allow at least   3 hours .   if you would prefer to call me with some dates and times - i can check the calendars while we are talking .   look forward to hearing from you .   thank you .   shirley crenshaw administrative coordinator research group 713/853 - 5290\n",
      "Trg :  interview with enron corp. research group\n",
      "Pred:  - enron corp. research group\n",
      "\n",
      "Example #2\n",
      "Src :  1 . if you know that you are taking vacation for the holidays , please submit a timesheet <unk> send your timesheet if you have taken time off / rotation information has changed . sorry , we are no longer tracking overtime since you are salary based . to all a / a pool members : it is important that you let us know of any time you have taken off . to those members who are sending time on to your assistant , please make sure they forward that information on to the a / a program . with the roll out of sap , you have the ability to go on - line @ http://ehronline.enron.com/ and input your time . i will continue to email for timesheets regardless if you go on - line . this is to let you know it is time to input your time or fills out your timesheet . 2 . if you have moved recently , please provide the following and indicate the new changes when sending your timesheet . new rotation : business unit and group : effective date : location : extension : supervisor : supervisor 's location : supervisor 's extension : supervisor 's assistant : assistant 's location : assistant 's extension : co # rc # 3 . quick reminder that you can pick up your check or past period check @ eb 1198 ( if they are not already coming to your location / mail stop ) . thank you for your cooperation rt\n",
      "Trg :  a / a - timesheets\n",
      "Pred:  's <unk>\n",
      "\n",
      "Example #3\n",
      "Src :  peter and dan--   txu is in the process of amending the current guaranty to have the cap amount increased due to an increase in trading .   please review the attached document and send any commentary back to my attention .   the beneficiaries involved are both enron north america corp. and enron canada corp.   i would appreciate a prompt response in order to have the guaranty executed as soon as possible by the counterparty due to the current exposure that we currently have out to them .     thank you ,   veronica espinoza\n",
      "Trg :  txu energy trading -- guaranty\n",
      "Pred:  \n",
      "\n"
     ]
    },
    {
     "name": "stdout",
     "output_type": "stream",
     "text": [
      "Example #4\n",
      "Src :  all ,   attached please find the current tagg / erms project list for the user meeting tomorrow at 10 a.m. in <unk> .     thanks & regards ,   karima husain project manager , gas tactical ( 713 ) 345 - 7252\n",
      "Trg :  tagg / erms project list\n",
      "Pred:  / <unk> / list / <unk> / <unk>\n",
      "\n",
      "Example #5\n",
      "Src :  calendar entry : \t appointment   description : eb3127 - will smith , duong luu   date : \t\t 4/24/2001 time : \t\t 9:00 am - 10:00 am ( central standard time )   chairperson : \t stacey w white   detailed description :\n",
      "Trg :  eb3127 - will smith , duong luu\n",
      "Pred:  - cindy olson , sheila , sheila , l. blair\n",
      "\n",
      "Validation perplexity: 35.388480\n",
      "Epoch 4\n",
      "Epoch Step: 100 Loss: 22.475595 Tokens per Sec: 3750.162057\n",
      "Epoch Step: 200 Loss: 14.347709 Tokens per Sec: 3937.783653\n",
      "Epoch Step: 300 Loss: 12.179421 Tokens per Sec: 3753.265148\n",
      "Epoch Step: 400 Loss: 19.947163 Tokens per Sec: 3775.044905\n",
      "Epoch Step: 500 Loss: 8.779942 Tokens per Sec: 3891.792634\n",
      "Epoch Step: 600 Loss: 20.125929 Tokens per Sec: 3732.957650\n",
      "Epoch Step: 700 Loss: 15.537609 Tokens per Sec: 3725.271456\n",
      "Epoch Step: 800 Loss: 14.403026 Tokens per Sec: 3835.622697\n",
      "Epoch Step: 900 Loss: 7.955616 Tokens per Sec: 3839.624670\n",
      "Epoch Step: 1000 Loss: 14.667575 Tokens per Sec: 3913.264893\n",
      "Epoch Step: 1100 Loss: 16.644375 Tokens per Sec: 3779.003604\n",
      "\n",
      "Example #1\n",
      "Src :  good afternoon mr. ball :   the enron corp. research group would like to conduct an informal interview with you at your convenience .   please give me some dates and times within the next 2 weeks that you might be available and i will arrange the schedule .   the people that will be interviewing you are :   vince kaminski    managing director stinson gibner    vice president grant masson    vice president vasant shanbhogue   vice president krishna krishnarao   director zimin lu    director tanya tamarchenko   manager alex huang    manager   each individual interview will last approximately 15 - 20 minutes , so we probably should allow at least   3 hours .   if you would prefer to call me with some dates and times - i can check the calendars while we are talking .   look forward to hearing from you .   thank you .   shirley crenshaw administrative coordinator research group 713/853 - 5290\n",
      "Trg :  interview with enron corp. research group\n",
      "Pred:  interview with enron corp.\n",
      "\n",
      "Example #2\n",
      "Src :  1 . if you know that you are taking vacation for the holidays , please submit a timesheet <unk> send your timesheet if you have taken time off / rotation information has changed . sorry , we are no longer tracking overtime since you are salary based . to all a / a pool members : it is important that you let us know of any time you have taken off . to those members who are sending time on to your assistant , please make sure they forward that information on to the a / a program . with the roll out of sap , you have the ability to go on - line @ http://ehronline.enron.com/ and input your time . i will continue to email for timesheets regardless if you go on - line . this is to let you know it is time to input your time or fills out your timesheet . 2 . if you have moved recently , please provide the following and indicate the new changes when sending your timesheet . new rotation : business unit and group : effective date : location : extension : supervisor : supervisor 's location : supervisor 's extension : supervisor 's assistant : assistant 's location : assistant 's extension : co # rc # 3 . quick reminder that you can pick up your check or past period check @ eb 1198 ( if they are not already coming to your location / mail stop ) . thank you for your cooperation rt\n",
      "Trg :  a / a - timesheets\n",
      "Pred:  's <unk> 's <unk> for <unk>\n",
      "\n",
      "Example #3\n",
      "Src :  peter and dan--   txu is in the process of amending the current guaranty to have the cap amount increased due to an increase in trading .   please review the attached document and send any commentary back to my attention .   the beneficiaries involved are both enron north america corp. and enron canada corp.   i would appreciate a prompt response in order to have the guaranty executed as soon as possible by the counterparty due to the current exposure that we currently have out to them .     thank you ,   veronica espinoza\n",
      "Trg :  txu energy trading -- guaranty\n",
      "Pred:  / enron corp. guaranty\n",
      "\n",
      "Example #4\n",
      "Src :  all ,   attached please find the current tagg / erms project list for the user meeting tomorrow at 10 a.m. in <unk> .     thanks & regards ,   karima husain project manager , gas tactical ( 713 ) 345 - 7252\n",
      "Trg :  tagg / erms project list\n",
      "Pred:  / nng list / project list\n",
      "\n",
      "Example #5\n",
      "Src :  calendar entry : \t appointment   description : eb3127 - will smith , duong luu   date : \t\t 4/24/2001 time : \t\t 9:00 am - 10:00 am ( central standard time )   chairperson : \t stacey w white   detailed description :\n",
      "Trg :  eb3127 - will smith , duong luu\n",
      "Pred:  - oncall leave\n",
      "\n",
      "Validation perplexity: 32.451280\n",
      "Epoch 5\n",
      "Epoch Step: 100 Loss: 11.537675 Tokens per Sec: 3799.512145\n",
      "Epoch Step: 200 Loss: 15.569303 Tokens per Sec: 3707.540642\n",
      "Epoch Step: 300 Loss: 14.741903 Tokens per Sec: 3755.720776\n",
      "Epoch Step: 400 Loss: 16.767788 Tokens per Sec: 3763.980670\n",
      "Epoch Step: 500 Loss: 14.363226 Tokens per Sec: 3803.740548\n",
      "Epoch Step: 600 Loss: 16.777258 Tokens per Sec: 3839.621239\n",
      "Epoch Step: 700 Loss: 11.971862 Tokens per Sec: 3866.135153\n",
      "Epoch Step: 800 Loss: 16.229284 Tokens per Sec: 3736.950489\n",
      "Epoch Step: 900 Loss: 14.497304 Tokens per Sec: 3859.852709\n",
      "Epoch Step: 1000 Loss: 17.381670 Tokens per Sec: 3846.945569\n",
      "Epoch Step: 1100 Loss: 6.924617 Tokens per Sec: 3802.211553\n",
      "\n",
      "Example #1\n",
      "Src :  good afternoon mr. ball :   the enron corp. research group would like to conduct an informal interview with you at your convenience .   please give me some dates and times within the next 2 weeks that you might be available and i will arrange the schedule .   the people that will be interviewing you are :   vince kaminski    managing director stinson gibner    vice president grant masson    vice president vasant shanbhogue   vice president krishna krishnarao   director zimin lu    director tanya tamarchenko   manager alex huang    manager   each individual interview will last approximately 15 - 20 minutes , so we probably should allow at least   3 hours .   if you would prefer to call me with some dates and times - i can check the calendars while we are talking .   look forward to hearing from you .   thank you .   shirley crenshaw administrative coordinator research group 713/853 - 5290\n",
      "Trg :  interview with enron corp. research group\n",
      "Pred:  enron\n",
      "\n",
      "Example #2\n",
      "Src :  1 . if you know that you are taking vacation for the holidays , please submit a timesheet <unk> send your timesheet if you have taken time off / rotation information has changed . sorry , we are no longer tracking overtime since you are salary based . to all a / a pool members : it is important that you let us know of any time you have taken off . to those members who are sending time on to your assistant , please make sure they forward that information on to the a / a program . with the roll out of sap , you have the ability to go on - line @ http://ehronline.enron.com/ and input your time . i will continue to email for timesheets regardless if you go on - line . this is to let you know it is time to input your time or fills out your timesheet . 2 . if you have moved recently , please provide the following and indicate the new changes when sending your timesheet . new rotation : business unit and group : effective date : location : extension : supervisor : supervisor 's location : supervisor 's extension : supervisor 's assistant : assistant 's location : assistant 's extension : co # rc # 3 . quick reminder that you can pick up your check or past period check @ eb 1198 ( if they are not already coming to your location / mail stop ) . thank you for your cooperation rt\n",
      "Trg :  a / a - timesheets\n",
      "Pred:  for <unk>\n",
      "\n",
      "Example #3\n",
      "Src :  peter and dan--   txu is in the process of amending the current guaranty to have the cap amount increased due to an increase in trading .   please review the attached document and send any commentary back to my attention .   the beneficiaries involved are both enron north america corp. and enron canada corp.   i would appreciate a prompt response in order to have the guaranty executed as soon as possible by the counterparty due to the current exposure that we currently have out to them .     thank you ,   veronica espinoza\n",
      "Trg :  txu energy trading -- guaranty\n",
      "Pred:  \n",
      "\n"
     ]
    },
    {
     "name": "stdout",
     "output_type": "stream",
     "text": [
      "Example #4\n",
      "Src :  all ,   attached please find the current tagg / erms project list for the user meeting tomorrow at 10 a.m. in <unk> .     thanks & regards ,   karima husain project manager , gas tactical ( 713 ) 345 - 7252\n",
      "Trg :  tagg / erms project list\n",
      "Pred:  / project list\n",
      "\n",
      "Example #5\n",
      "Src :  calendar entry : \t appointment   description : eb3127 - will smith , duong luu   date : \t\t 4/24/2001 time : \t\t 9:00 am - 10:00 am ( central standard time )   chairperson : \t stacey w white   detailed description :\n",
      "Trg :  eb3127 - will smith , duong luu\n",
      "Pred:  - greg whalley , john , harry , harry\n",
      "\n",
      "Validation perplexity: 31.794436\n",
      "Epoch 6\n",
      "Epoch Step: 100 Loss: 8.197569 Tokens per Sec: 3724.627137\n",
      "Epoch Step: 200 Loss: 15.234990 Tokens per Sec: 3719.328353\n",
      "Epoch Step: 300 Loss: 10.713161 Tokens per Sec: 3847.159844\n",
      "Epoch Step: 400 Loss: 14.645063 Tokens per Sec: 3854.050364\n",
      "Epoch Step: 500 Loss: 8.823080 Tokens per Sec: 3760.702437\n",
      "Epoch Step: 600 Loss: 16.139095 Tokens per Sec: 3834.998336\n",
      "Epoch Step: 700 Loss: 21.365295 Tokens per Sec: 3839.508721\n",
      "Epoch Step: 800 Loss: 23.635712 Tokens per Sec: 3701.861291\n",
      "Epoch Step: 900 Loss: 15.227733 Tokens per Sec: 3805.540330\n",
      "Epoch Step: 1000 Loss: 8.322826 Tokens per Sec: 3840.082903\n",
      "Epoch Step: 1100 Loss: 8.704960 Tokens per Sec: 3714.501812\n",
      "\n",
      "Example #1\n",
      "Src :  good afternoon mr. ball :   the enron corp. research group would like to conduct an informal interview with you at your convenience .   please give me some dates and times within the next 2 weeks that you might be available and i will arrange the schedule .   the people that will be interviewing you are :   vince kaminski    managing director stinson gibner    vice president grant masson    vice president vasant shanbhogue   vice president krishna krishnarao   director zimin lu    director tanya tamarchenko   manager alex huang    manager   each individual interview will last approximately 15 - 20 minutes , so we probably should allow at least   3 hours .   if you would prefer to call me with some dates and times - i can check the calendars while we are talking .   look forward to hearing from you .   thank you .   shirley crenshaw administrative coordinator research group 713/853 - 5290\n",
      "Trg :  interview with enron corp. research group\n",
      "Pred:  interview with enron corp.\n",
      "\n",
      "Example #2\n",
      "Src :  1 . if you know that you are taking vacation for the holidays , please submit a timesheet <unk> send your timesheet if you have taken time off / rotation information has changed . sorry , we are no longer tracking overtime since you are salary based . to all a / a pool members : it is important that you let us know of any time you have taken off . to those members who are sending time on to your assistant , please make sure they forward that information on to the a / a program . with the roll out of sap , you have the ability to go on - line @ http://ehronline.enron.com/ and input your time . i will continue to email for timesheets regardless if you go on - line . this is to let you know it is time to input your time or fills out your timesheet . 2 . if you have moved recently , please provide the following and indicate the new changes when sending your timesheet . new rotation : business unit and group : effective date : location : extension : supervisor : supervisor 's location : supervisor 's extension : supervisor 's assistant : assistant 's location : assistant 's extension : co # rc # 3 . quick reminder that you can pick up your check or past period check @ eb 1198 ( if they are not already coming to your location / mail stop ) . thank you for your cooperation rt\n",
      "Trg :  a / a - timesheets\n",
      "Pred:  's new <unk> for <unk> 's day\n",
      "\n",
      "Example #3\n",
      "Src :  peter and dan--   txu is in the process of amending the current guaranty to have the cap amount increased due to an increase in trading .   please review the attached document and send any commentary back to my attention .   the beneficiaries involved are both enron north america corp. and enron canada corp.   i would appreciate a prompt response in order to have the guaranty executed as soon as possible by the counterparty due to the current exposure that we currently have out to them .     thank you ,   veronica espinoza\n",
      "Trg :  txu energy trading -- guaranty\n",
      "Pred:  bank of montreal / ena / ena / ena / ena - <unk> = ect\n",
      "\n",
      "Example #4\n",
      "Src :  all ,   attached please find the current tagg / erms project list for the user meeting tomorrow at 10 a.m. in <unk> .     thanks & regards ,   karima husain project manager , gas tactical ( 713 ) 345 - 7252\n",
      "Trg :  tagg / erms project list\n",
      "Pred:  / project list\n",
      "\n",
      "Example #5\n",
      "Src :  calendar entry : \t appointment   description : eb3127 - will smith , duong luu   date : \t\t 4/24/2001 time : \t\t 9:00 am - 10:00 am ( central standard time )   chairperson : \t stacey w white   detailed description :\n",
      "Trg :  eb3127 - will smith , duong luu\n",
      "Pred:  - leave at 1:30\n",
      "\n",
      "Validation perplexity: 32.009490\n",
      "Epoch 7\n",
      "Epoch Step: 100 Loss: 8.053901 Tokens per Sec: 3753.717753\n",
      "Epoch Step: 200 Loss: 10.852753 Tokens per Sec: 3786.288632\n",
      "Epoch Step: 300 Loss: 4.961367 Tokens per Sec: 3852.405964\n",
      "Epoch Step: 400 Loss: 8.427648 Tokens per Sec: 3789.284029\n",
      "Epoch Step: 500 Loss: 10.066248 Tokens per Sec: 3838.277949\n",
      "Epoch Step: 600 Loss: 7.444422 Tokens per Sec: 3829.481238\n",
      "Epoch Step: 700 Loss: 13.264322 Tokens per Sec: 3702.218157\n",
      "Epoch Step: 800 Loss: 10.241673 Tokens per Sec: 3804.630735\n",
      "Epoch Step: 900 Loss: 7.076655 Tokens per Sec: 3781.365281\n",
      "Epoch Step: 1000 Loss: 9.442894 Tokens per Sec: 3745.202162\n",
      "Epoch Step: 1100 Loss: 9.337792 Tokens per Sec: 3806.917742\n",
      "\n",
      "Example #1\n",
      "Src :  good afternoon mr. ball :   the enron corp. research group would like to conduct an informal interview with you at your convenience .   please give me some dates and times within the next 2 weeks that you might be available and i will arrange the schedule .   the people that will be interviewing you are :   vince kaminski    managing director stinson gibner    vice president grant masson    vice president vasant shanbhogue   vice president krishna krishnarao   director zimin lu    director tanya tamarchenko   manager alex huang    manager   each individual interview will last approximately 15 - 20 minutes , so we probably should allow at least   3 hours .   if you would prefer to call me with some dates and times - i can check the calendars while we are talking .   look forward to hearing from you .   thank you .   shirley crenshaw administrative coordinator research group 713/853 - 5290\n",
      "Trg :  interview with enron corp. research group\n",
      "Pred:  enron kids\n",
      "\n",
      "Example #2\n",
      "Src :  1 . if you know that you are taking vacation for the holidays , please submit a timesheet <unk> send your timesheet if you have taken time off / rotation information has changed . sorry , we are no longer tracking overtime since you are salary based . to all a / a pool members : it is important that you let us know of any time you have taken off . to those members who are sending time on to your assistant , please make sure they forward that information on to the a / a program . with the roll out of sap , you have the ability to go on - line @ http://ehronline.enron.com/ and input your time . i will continue to email for timesheets regardless if you go on - line . this is to let you know it is time to input your time or fills out your timesheet . 2 . if you have moved recently , please provide the following and indicate the new changes when sending your timesheet . new rotation : business unit and group : effective date : location : extension : supervisor : supervisor 's location : supervisor 's extension : supervisor 's assistant : assistant 's location : assistant 's extension : co # rc # 3 . quick reminder that you can pick up your check or past period check @ eb 1198 ( if they are not already coming to your location / mail stop ) . thank you for your cooperation rt\n",
      "Trg :  a / a - timesheets\n",
      "Pred:  's <unk> for <unk> <unk> <unk>\n",
      "\n",
      "Example #3\n",
      "Src :  peter and dan--   txu is in the process of amending the current guaranty to have the cap amount increased due to an increase in trading .   please review the attached document and send any commentary back to my attention .   the beneficiaries involved are both enron north america corp. and enron canada corp.   i would appreciate a prompt response in order to have the guaranty executed as soon as possible by the counterparty due to the current exposure that we currently have out to them .     thank you ,   veronica espinoza\n",
      "Trg :  txu energy trading -- guaranty\n",
      "Pred:  corp. guaranty\n",
      "\n"
     ]
    },
    {
     "name": "stdout",
     "output_type": "stream",
     "text": [
      "Example #4\n",
      "Src :  all ,   attached please find the current tagg / erms project list for the user meeting tomorrow at 10 a.m. in <unk> .     thanks & regards ,   karima husain project manager , gas tactical ( 713 ) 345 - 7252\n",
      "Trg :  tagg / erms project list\n",
      "Pred:  inventory list\n",
      "\n",
      "Example #5\n",
      "Src :  calendar entry : \t appointment   description : eb3127 - will smith , duong luu   date : \t\t 4/24/2001 time : \t\t 9:00 am - 10:00 am ( central standard time )   chairperson : \t stacey w white   detailed description :\n",
      "Trg :  eb3127 - will smith , duong luu\n",
      "Pred:  - leave at 2:00\n",
      "\n",
      "Validation perplexity: 33.935171\n",
      "Epoch 8\n",
      "Epoch Step: 100 Loss: 11.195764 Tokens per Sec: 3651.951120\n",
      "Epoch Step: 200 Loss: 7.086837 Tokens per Sec: 3799.248851\n",
      "Epoch Step: 300 Loss: 7.034146 Tokens per Sec: 3862.061715\n",
      "Epoch Step: 400 Loss: 6.729391 Tokens per Sec: 3889.858742\n",
      "Epoch Step: 500 Loss: 8.249287 Tokens per Sec: 3851.696150\n",
      "Epoch Step: 600 Loss: 9.600771 Tokens per Sec: 3895.944090\n",
      "Epoch Step: 700 Loss: 11.626307 Tokens per Sec: 3793.342897\n",
      "Epoch Step: 800 Loss: 14.670343 Tokens per Sec: 3766.554861\n",
      "Epoch Step: 900 Loss: 11.939933 Tokens per Sec: 3653.158896\n",
      "Epoch Step: 1000 Loss: 12.054016 Tokens per Sec: 3798.238888\n",
      "Epoch Step: 1100 Loss: 10.370023 Tokens per Sec: 3789.599911\n",
      "\n",
      "Example #1\n",
      "Src :  good afternoon mr. ball :   the enron corp. research group would like to conduct an informal interview with you at your convenience .   please give me some dates and times within the next 2 weeks that you might be available and i will arrange the schedule .   the people that will be interviewing you are :   vince kaminski    managing director stinson gibner    vice president grant masson    vice president vasant shanbhogue   vice president krishna krishnarao   director zimin lu    director tanya tamarchenko   manager alex huang    manager   each individual interview will last approximately 15 - 20 minutes , so we probably should allow at least   3 hours .   if you would prefer to call me with some dates and times - i can check the calendars while we are talking .   look forward to hearing from you .   thank you .   shirley crenshaw administrative coordinator research group 713/853 - 5290\n",
      "Trg :  interview with enron corp. research group\n",
      "Pred:  enron corp. research group\n",
      "\n",
      "Example #2\n",
      "Src :  1 . if you know that you are taking vacation for the holidays , please submit a timesheet <unk> send your timesheet if you have taken time off / rotation information has changed . sorry , we are no longer tracking overtime since you are salary based . to all a / a pool members : it is important that you let us know of any time you have taken off . to those members who are sending time on to your assistant , please make sure they forward that information on to the a / a program . with the roll out of sap , you have the ability to go on - line @ http://ehronline.enron.com/ and input your time . i will continue to email for timesheets regardless if you go on - line . this is to let you know it is time to input your time or fills out your timesheet . 2 . if you have moved recently , please provide the following and indicate the new changes when sending your timesheet . new rotation : business unit and group : effective date : location : extension : supervisor : supervisor 's location : supervisor 's extension : supervisor 's assistant : assistant 's location : assistant 's extension : co # rc # 3 . quick reminder that you can pick up your check or past period check @ eb 1198 ( if they are not already coming to your location / mail stop ) . thank you for your cooperation rt\n",
      "Trg :  a / a - timesheets\n",
      "Pred:  for <unk> - <unk>\n",
      "\n",
      "Example #3\n",
      "Src :  peter and dan--   txu is in the process of amending the current guaranty to have the cap amount increased due to an increase in trading .   please review the attached document and send any commentary back to my attention .   the beneficiaries involved are both enron north america corp. and enron canada corp.   i would appreciate a prompt response in order to have the guaranty executed as soon as possible by the counterparty due to the current exposure that we currently have out to them .     thank you ,   veronica espinoza\n",
      "Trg :  txu energy trading -- guaranty\n",
      "Pred:  of guaranty\n",
      "\n",
      "Example #4\n",
      "Src :  all ,   attached please find the current tagg / erms project list for the user meeting tomorrow at 10 a.m. in <unk> .     thanks & regards ,   karima husain project manager , gas tactical ( 713 ) 345 - 7252\n",
      "Trg :  tagg / erms project list\n",
      "Pred:  : project list\n",
      "\n",
      "Example #5\n",
      "Src :  calendar entry : \t appointment   description : eb3127 - will smith , duong luu   date : \t\t 4/24/2001 time : \t\t 9:00 am - 10:00 am ( central standard time )   chairperson : \t stacey w white   detailed description :\n",
      "Trg :  eb3127 - will smith , duong luu\n",
      "Pred:  - leave at eb47c2\n",
      "\n",
      "Validation perplexity: 37.130596\n",
      "Epoch 9\n",
      "Epoch Step: 100 Loss: 8.428569 Tokens per Sec: 3759.226791\n",
      "Epoch Step: 200 Loss: 7.733888 Tokens per Sec: 3907.469412\n",
      "Epoch Step: 300 Loss: 8.553259 Tokens per Sec: 3704.107054\n",
      "Epoch Step: 400 Loss: 11.953041 Tokens per Sec: 3916.052895\n",
      "Epoch Step: 500 Loss: 9.321321 Tokens per Sec: 3817.917602\n",
      "Epoch Step: 600 Loss: 8.801445 Tokens per Sec: 3784.239989\n",
      "Epoch Step: 700 Loss: 10.637040 Tokens per Sec: 3800.921846\n",
      "Epoch Step: 800 Loss: 5.903121 Tokens per Sec: 3740.053036\n",
      "Epoch Step: 900 Loss: 7.662145 Tokens per Sec: 3903.336050\n",
      "Epoch Step: 1000 Loss: 7.662616 Tokens per Sec: 3755.386019\n",
      "Epoch Step: 1100 Loss: 14.004316 Tokens per Sec: 3721.830599\n",
      "\n",
      "Example #1\n",
      "Src :  good afternoon mr. ball :   the enron corp. research group would like to conduct an informal interview with you at your convenience .   please give me some dates and times within the next 2 weeks that you might be available and i will arrange the schedule .   the people that will be interviewing you are :   vince kaminski    managing director stinson gibner    vice president grant masson    vice president vasant shanbhogue   vice president krishna krishnarao   director zimin lu    director tanya tamarchenko   manager alex huang    manager   each individual interview will last approximately 15 - 20 minutes , so we probably should allow at least   3 hours .   if you would prefer to call me with some dates and times - i can check the calendars while we are talking .   look forward to hearing from you .   thank you .   shirley crenshaw administrative coordinator research group 713/853 - 5290\n",
      "Trg :  interview with enron corp. research group\n",
      "Pred:  interview with enron corp.\n",
      "\n",
      "Example #2\n",
      "Src :  1 . if you know that you are taking vacation for the holidays , please submit a timesheet <unk> send your timesheet if you have taken time off / rotation information has changed . sorry , we are no longer tracking overtime since you are salary based . to all a / a pool members : it is important that you let us know of any time you have taken off . to those members who are sending time on to your assistant , please make sure they forward that information on to the a / a program . with the roll out of sap , you have the ability to go on - line @ http://ehronline.enron.com/ and input your time . i will continue to email for timesheets regardless if you go on - line . this is to let you know it is time to input your time or fills out your timesheet . 2 . if you have moved recently , please provide the following and indicate the new changes when sending your timesheet . new rotation : business unit and group : effective date : location : extension : supervisor : supervisor 's location : supervisor 's extension : supervisor 's assistant : assistant 's location : assistant 's extension : co # rc # 3 . quick reminder that you can pick up your check or past period check @ eb 1198 ( if they are not already coming to your location / mail stop ) . thank you for your cooperation rt\n",
      "Trg :  a / a - timesheets\n",
      "Pred:  for the <unk> 's day\n",
      "\n",
      "Example #3\n",
      "Src :  peter and dan--   txu is in the process of amending the current guaranty to have the cap amount increased due to an increase in trading .   please review the attached document and send any commentary back to my attention .   the beneficiaries involved are both enron north america corp. and enron canada corp.   i would appreciate a prompt response in order to have the guaranty executed as soon as possible by the counterparty due to the current exposure that we currently have out to them .     thank you ,   veronica espinoza\n",
      "Trg :  txu energy trading -- guaranty\n",
      "Pred:  bank of guaranty\n",
      "\n"
     ]
    },
    {
     "name": "stdout",
     "output_type": "stream",
     "text": [
      "Example #4\n",
      "Src :  all ,   attached please find the current tagg / erms project list for the user meeting tomorrow at 10 a.m. in <unk> .     thanks & regards ,   karima husain project manager , gas tactical ( 713 ) 345 - 7252\n",
      "Trg :  tagg / erms project list\n",
      "Pred:  : project list\n",
      "\n",
      "Example #5\n",
      "Src :  calendar entry : \t appointment   description : eb3127 - will smith , duong luu   date : \t\t 4/24/2001 time : \t\t 9:00 am - 10:00 am ( central standard time )   chairperson : \t stacey w white   detailed description :\n",
      "Trg :  eb3127 - will smith , duong luu\n",
      "Pred:  - leave at eb47c2\n",
      "\n",
      "Validation perplexity: 41.424192\n"
     ]
    }
   ],
   "source": [
    "model = make_model(len(SRC.vocab.itos), len(TRG.vocab.itos),\n",
    "                   emb_size=300, hidden_size=256,\n",
    "                   num_layers=1, dropout=0.2)\n",
    "\n",
    "dev_perplexities = train(model, train_iter, valid_iter, SRC, TRG, num_epochs=10, lr=0.0003, print_every=100)"
   ]
  },
  {
   "cell_type": "code",
   "execution_count": 12,
   "metadata": {},
   "outputs": [
    {
     "data": {
      "image/png": "[encoded data removed]",
      "text/plain": [
       "<matplotlib.figure.Figure at 0x2ada1715c0f0>"
      ]
     },
     "metadata": {
      "needs_background": "light"
     },
     "output_type": "display_data"
    }
   ],
   "source": [
    "plot_perplexity(dev_perplexities)"
   ]
  },
  {
   "cell_type": "code",
   "execution_count": 13,
   "metadata": {},
   "outputs": [
    {
     "name": "stdout",
     "output_type": "stream",
     "text": [
      "\n",
      "Example #1\n",
      "Src :  good afternoon mr. ball :   the enron corp. research group would like to conduct an informal interview with you at your convenience .   please give me some dates and times within the next 2 weeks that you might be available and i will arrange the schedule .   the people that will be interviewing you are :   vince kaminski    managing director stinson gibner    vice president grant masson    vice president vasant shanbhogue   vice president krishna krishnarao   director zimin lu    director tanya tamarchenko   manager alex huang    manager   each individual interview will last approximately 15 - 20 minutes , so we probably should allow at least   3 hours .   if you would prefer to call me with some dates and times - i can check the calendars while we are talking .   look forward to hearing from you .   thank you .   shirley crenshaw administrative coordinator research group 713/853 - 5290\n",
      "Trg :  interview with enron corp. research group\n",
      "Pred:  interview with enron corp.\n",
      "\n",
      "Example #2\n",
      "Src :  1 . if you know that you are taking vacation for the holidays , please submit a timesheet <unk> send your timesheet if you have taken time off / rotation information has changed . sorry , we are no longer tracking overtime since you are salary based . to all a / a pool members : it is important that you let us know of any time you have taken off . to those members who are sending time on to your assistant , please make sure they forward that information on to the a / a program . with the roll out of sap , you have the ability to go on - line @ http://ehronline.enron.com/ and input your time . i will continue to email for timesheets regardless if you go on - line . this is to let you know it is time to input your time or fills out your timesheet . 2 . if you have moved recently , please provide the following and indicate the new changes when sending your timesheet . new rotation : business unit and group : effective date : location : extension : supervisor : supervisor 's location : supervisor 's extension : supervisor 's assistant : assistant 's location : assistant 's extension : co # rc # 3 . quick reminder that you can pick up your check or past period check @ eb 1198 ( if they are not already coming to your location / mail stop ) . thank you for your cooperation rt\n",
      "Trg :  a / a - timesheets\n",
      "Pred:  for the <unk> 's day\n",
      "\n",
      "Example #3\n",
      "Src :  peter and dan--   txu is in the process of amending the current guaranty to have the cap amount increased due to an increase in trading .   please review the attached document and send any commentary back to my attention .   the beneficiaries involved are both enron north america corp. and enron canada corp.   i would appreciate a prompt response in order to have the guaranty executed as soon as possible by the counterparty due to the current exposure that we currently have out to them .     thank you ,   veronica espinoza\n",
      "Trg :  txu energy trading -- guaranty\n",
      "Pred:  bank of guaranty\n",
      "\n",
      "Example #4\n",
      "Src :  all ,   attached please find the current tagg / erms project list for the user meeting tomorrow at 10 a.m. in <unk> .     thanks & regards ,   karima husain project manager , gas tactical ( 713 ) 345 - 7252\n",
      "Trg :  tagg / erms project list\n",
      "Pred:  : project list\n",
      "\n",
      "Example #5\n",
      "Src :  calendar entry : \t appointment   description : eb3127 - will smith , duong luu   date : \t\t 4/24/2001 time : \t\t 9:00 am - 10:00 am ( central standard time )   chairperson : \t stacey w white   detailed description :\n",
      "Trg :  eb3127 - will smith , duong luu\n",
      "Pred:  - leave at eb47c2\n",
      "\n",
      "Example #6\n",
      "Src :  please welcome steve <unk> to our portland west origination legal team .   steve joins us after spending the last 4 years of his practice with enron broadband services , and , prior to ebs , with portland general .   he brings with him an abundance of skill sets and experience in transactional , finance and project development work , and is an outstanding addition to our team .   steve 's office is between karen 's and christian 's , and jan will provide his admin support .   welcome aboard , steve !\n",
      "Trg :  welcome steve <unk>\n",
      "Pred:  \n",
      "\n",
      "Example #7\n",
      "Src :  as requested ...\n",
      "Trg :  budget worksheets\n",
      "Pred:  \n",
      "\n",
      "Example #8\n",
      "Src :  rick --   any insight into this statement about whalley and frevert ?   i 'm guessing that this is just lay 's vision of what is now impacting our company ?   appreciate your thoughts ?   jim    lay was n't more specific about the two men 's assignments . ` ` they 'll be looking at all of the businesses -- the wholesale unit , government affairs . anything that affects enron , ' ' lay said .\n",
      "Trg :  what does this mean ? ?\n",
      "Pred:  ken lay ?\n",
      "\n",
      "Example #9\n",
      "Src :  ? \t sources report that socal chairman , john bryson , and governor davis were roommates together at stanford in the early 60 's .   this <unk> relationship may provide some explanation for socal 's willingness to negotiate with the governor and the governor 's determination to reach a solution with socal .   ? \t voluntary bankruptcy reportedly is \" not an option \" for socal .   however , the possibility remains that socal 's creditors will take them into involuntary bankruptcy .   if the state 's purchase of the transmission assets is delayed , it appears that the possibility of this occurring will increase .   ? \t however , the agreement by the state to purchase socal 's transmission assets is actually a memorandum of understanding . the agreement reportedly was rushed for \" political purposes , \" but the details still remain to be decided .   it is possible , the <unk> deadline stated in the memorandum may have to be extended .   ? \t pg&e reportedly refused to part with its transmission assets in its negotiations with the governor .   pg&e makes more money on transmission than distribution of power , the opposite is true for socal .\n",
      "Trg :  california update 4/12/01\n",
      "Pred:  update\n",
      "\n",
      "Example #10\n",
      "Src :  i have a very important video announcement about the future of our company .   please go to < <unk> > to access the video .   thank you .\n",
      "Trg :  important video announcement\n",
      "Pred:  \n",
      "\n"
     ]
    }
   ],
   "source": [
    "print_examples((rebatch(PAD_INDEX, x) for x in valid_iter), \n",
    "               model, n=10, src_vocab=SRC.vocab, trg_vocab=TRG.vocab)  "
   ]
  },
  {
   "cell_type": "markdown",
   "metadata": {},
   "source": [
    "# Evaluation"
   ]
  },
  {
   "cell_type": "code",
   "execution_count": 14,
   "metadata": {},
   "outputs": [
    {
     "name": "stderr",
     "output_type": "stream",
     "text": [
      "[nltk_data] Downloading package punkt to /home/yj1461/nltk_data...\n",
      "[nltk_data]   Package punkt is already up-to-date!\n"
     ]
    },
    {
     "data": {
      "text/plain": [
       "True"
      ]
     },
     "execution_count": 14,
     "metadata": {},
     "output_type": "execute_result"
    }
   ],
   "source": [
    "import sacrebleu\n",
    "import rouge\n",
    "import nltk\n",
    "nltk.download('punkt')"
   ]
  },
  {
   "cell_type": "code",
   "execution_count": 15,
   "metadata": {},
   "outputs": [
    {
     "name": "stdout",
     "output_type": "stream",
     "text": [
      "19070\n",
      "interview with enron corp. research group\n"
     ]
    }
   ],
   "source": [
    "references = [\" \".join(example.trg) for example in valid_data]\n",
    "emails = [\" \".join(example.src) for example in valid_data]\n",
    "print(len(references))\n",
    "print(references[0])"
   ]
  },
  {
   "cell_type": "markdown",
   "metadata": {},
   "source": [
    "Prediction:"
   ]
  },
  {
   "cell_type": "code",
   "execution_count": 16,
   "metadata": {},
   "outputs": [
    {
     "name": "stderr",
     "output_type": "stream",
     "text": [
      "100%|██████████| 19070/19070 [13:06<00:00, 24.26it/s]\n"
     ]
    }
   ],
   "source": [
    "hypotheses = []\n",
    "alphas = []  # save the last attention scores\n",
    "for batch in tqdm(valid_iter):\n",
    "    batch = rebatch(PAD_INDEX, batch)\n",
    "    pred, attention = greedy_decode(\n",
    "    model, batch.src, batch.src_mask, batch.src_lengths, max_len=25,\n",
    "    sos_index=TRG.vocab.stoi[SOS_TOKEN],\n",
    "    eos_index=TRG.vocab.stoi[EOS_TOKEN])\n",
    "    hypotheses.append(pred)\n",
    "    alphas.append(attention)"
   ]
  },
  {
   "cell_type": "code",
   "execution_count": 17,
   "metadata": {},
   "outputs": [],
   "source": [
    "hypotheses = [\" \".join(lookup_words(x, TRG.vocab)) for x in hypotheses]\n",
    "# hypotheses = [\" \".join(x) for x in hypotheses]"
   ]
  },
  {
   "cell_type": "code",
   "execution_count": 18,
   "metadata": {},
   "outputs": [
    {
     "name": "stdout",
     "output_type": "stream",
     "text": [
      "good afternoon mr. ball :   the enron corp. research group would like to conduct an informal interview with you at your convenience .   please give me some dates and times within the next 2 weeks that you might be available and i will arrange the schedule .   the people that will be interviewing you are :   vince kaminski    managing director stinson gibner    vice president grant masson    vice president vasant shanbhogue   vice president krishna krishnarao   director zimin lu    director tanya tamarchenko   manager alex huang    manager   each individual interview will last approximately 15 - 20 minutes , so we probably should allow at least   3 hours .   if you would prefer to call me with some dates and times - i can check the calendars while we are talking .   look forward to hearing from you .   thank you .   shirley crenshaw administrative coordinator research group 713/853 - 5290\n",
      "interview with enron corp. research group\n",
      "interview with enron corp.\n"
     ]
    }
   ],
   "source": [
    "print(emails[0])\n",
    "print(references[0])\n",
    "print(hypotheses[0])"
   ]
  },
  {
   "cell_type": "markdown",
   "metadata": {},
   "source": [
    "## BLEU"
   ]
  },
  {
   "cell_type": "code",
   "execution_count": 19,
   "metadata": {},
   "outputs": [
    {
     "name": "stdout",
     "output_type": "stream",
     "text": [
      "Requirement already satisfied: sacrebleu in /home/yj1461/py3.6.3/lib/python3.6/site-packages (1.3.1)\r\n",
      "Requirement already satisfied: typing in /home/yj1461/py3.6.3/lib/python3.6/site-packages (from sacrebleu) (3.6.6)\r\n"
     ]
    }
   ],
   "source": [
    "!pip install sacrebleu"
   ]
  },
  {
   "cell_type": "code",
   "execution_count": 20,
   "metadata": {},
   "outputs": [],
   "source": [
    "import sacrebleu"
   ]
  },
  {
   "cell_type": "code",
   "execution_count": null,
   "metadata": {},
   "outputs": [],
   "source": [
    "bleu = sacrebleu.raw_corpus_bleu(hypotheses, [references], .01).score\n",
    "print(bleu)"
   ]
  },
  {
   "cell_type": "markdown",
   "metadata": {},
   "source": [
    "## Rouge"
   ]
  },
  {
   "cell_type": "code",
   "execution_count": null,
   "metadata": {},
   "outputs": [],
   "source": [
    "!pip install py-rouge nltk"
   ]
  },
  {
   "cell_type": "code",
   "execution_count": null,
   "metadata": {},
   "outputs": [],
   "source": [
    "import rouge\n",
    "import nltk\n",
    "nltk.download('punkt')"
   ]
  },
  {
   "cell_type": "code",
   "execution_count": null,
   "metadata": {},
   "outputs": [],
   "source": [
    "hyps, refs = references, hypotheses"
   ]
  },
  {
   "cell_type": "code",
   "execution_count": null,
   "metadata": {},
   "outputs": [],
   "source": [
    "def prepare_results(p, r, f):\n",
    "    return '\\t{}:\\t{}: {:5.2f}\\t{}: {:5.2f}\\t{}: {:5.2f}'.format(metric, 'P', 100.0 * p, 'R', 100.0 * r, 'F1', 100.0 * f)\n",
    "\n",
    "\n",
    "for aggregator in ['Avg']: #'Best', 'Individual'\n",
    "    print('Evaluation with {}'.format(aggregator))\n",
    "    apply_avg = aggregator == 'Avg'\n",
    "    apply_best = aggregator == 'Best'\n",
    "\n",
    "    evaluator = rouge.Rouge(metrics=['rouge-n', 'rouge-l', 'rouge-w'],\n",
    "                           max_n=4,\n",
    "                           limit_length=True,\n",
    "                           length_limit=100,\n",
    "                           length_limit_type='words',\n",
    "                           apply_avg=apply_avg,\n",
    "                           apply_best=apply_best,\n",
    "                           alpha=0.5, # Default F1_score\n",
    "                           weight_factor=1.2,\n",
    "                           stemming=True)\n",
    "\n",
    "    all_hypothesis = hyps\n",
    "    all_references = refs\n",
    "\n",
    "    scores = evaluator.get_scores(all_hypothesis, all_references)\n",
    "\n",
    "    for metric, results in sorted(scores.items(), key=lambda x: x[0]):\n",
    "        if not apply_avg and not apply_best: # value is a type of list as we evaluate each summary vs each reference\n",
    "            for hypothesis_id, results_per_ref in enumerate(results):\n",
    "                nb_references = len(results_per_ref['p'])\n",
    "### skipp printing for individual rouge\n",
    "#                 for reference_id in range(nb_references):\n",
    "#                     print('\\tHypothesis #{} & Reference #{}: '.format(hypothesis_id, reference_id))\n",
    "#                     print('\\t' + prepare_results(results_per_ref['p'][reference_id], results_per_ref['r'][reference_id], results_per_ref['f'][reference_id]))\n",
    "            print()\n",
    "        else:\n",
    "            print(prepare_results(results['p'], results['r'], results['f']))\n",
    "    print()"
   ]
  },
  {
   "cell_type": "markdown",
   "metadata": {
    "colab_type": "text",
    "id": "A85zykvhlCPE"
   },
   "source": [
    "### Saving resulting data and model for future reference"
   ]
  },
  {
   "cell_type": "code",
   "execution_count": null,
   "metadata": {
    "colab": {},
    "colab_type": "code",
    "id": "oU564wlql9Ga"
   },
   "outputs": [],
   "source": [
    "evalf1 = scores['rouge-1']['f']\n",
    "str(evalf1)[:6]"
   ]
  },
  {
   "cell_type": "code",
   "execution_count": null,
   "metadata": {
    "colab": {},
    "colab_type": "code",
    "id": "Rlgi2df6iMPJ"
   },
   "outputs": [],
   "source": [
    "import pandas as pd"
   ]
  },
  {
   "cell_type": "code",
   "execution_count": null,
   "metadata": {
    "colab": {},
    "colab_type": "code",
    "id": "Gn0A88ZWiGoy"
   },
   "outputs": [],
   "source": [
    "df = pd.DataFrame([emails, references, hypotheses], index=['source','reference','hypotheses']).T"
   ]
  },
  {
   "cell_type": "code",
   "execution_count": null,
   "metadata": {
    "colab": {},
    "colab_type": "code",
    "id": "M-CcK0JKiPAY"
   },
   "outputs": [],
   "source": [
    "df.to_csv(SAVE_MODEL_PATH+str(evalf1)[:6]+'.csv', index=False)"
   ]
  },
  {
   "cell_type": "code",
   "execution_count": null,
   "metadata": {
    "colab": {},
    "colab_type": "code",
    "id": "q22rNbQmIzkJ"
   },
   "outputs": [],
   "source": [
    "torch.save(model, SAVE_MODEL_PATH+str(evalf1)[:6]+'.pt')"
   ]
  }
 ],
 "metadata": {
  "kernelspec": {
   "display_name": "Python 3",
   "language": "python",
   "name": "python3"
  },
  "language_info": {
   "codemirror_mode": {
    "name": "ipython",
    "version": 3
   },
   "file_extension": ".py",
   "mimetype": "text/x-python",
   "name": "python",
   "nbconvert_exporter": "python",
   "pygments_lexer": "ipython3",
   "version": "3.6.3"
  }
 },
 "nbformat": 4,
 "nbformat_minor": 2
}
